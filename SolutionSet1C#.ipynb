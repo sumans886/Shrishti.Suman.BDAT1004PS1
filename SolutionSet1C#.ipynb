{
 "cells": [
  {
   "cell_type": "markdown",
   "metadata": {},
   "source": [
    "# Question 1 C#\n",
    "\n",
    "What data type is each of the following?\n",
    "5\n",
    "5.0\n",
    "5 > 1\n",
    "'5'\n",
    "5 * 2\n",
    "'5' * 2\n",
    "'5' + '2'\n",
    "5 / 2\n",
    "5 % 2\n",
    "{5, 2, 1}\n",
    "5 == 3\n",
    "Pi (the number)\n"
   ]
  },
  {
   "cell_type": "markdown",
   "metadata": {},
   "source": [
    "| Value          | Datatype                                            |\n",
    "| :---           | :--------------------------------------------------:|\n",
    "| 5              | int                                                 |\n",
    "| 5.0            | float                                               |\n",
    "| 5 > 1          | Boolean                                             |\n",
    "| '5'            | char                                                |\n",
    "| 5 * 2          | int                                                 |\n",
    "| '5' * 2        | int                                                 |\n",
    "| '5' + '2'      | int                                                 |\n",
    "| 5 / 2          | int                                                 |\n",
    "| 5 % 2          | int                                                 |\n",
    "| {5, 2, 1}      |                                                     |\n",
    "| 5 == 3         | boolean                                             |\n",
    "| Pi (the number)| out of bounds                                       |"
   ]
  },
  {
   "cell_type": "markdown",
   "metadata": {},
   "source": [
    "# Question 2 C#\n",
    "\n",
    "Write (and evaluate) C# expressions that answer these questions:\n",
    "\n",
    "a. How many letters are there in 'Supercalifragilisticexpialidocious'?\n",
    "\n",
    "b. Does 'Supercalifragilisticexpialidocious' contain 'ice' as a substring? \n",
    "\n",
    "c. Which of the following words is the longest:\n",
    "Supercalifragilisticexpialidocious, Honorificabilitudinitatibus, or\n",
    "Bababadalgharaghtakamminarronnkonn?\n",
    "\n",
    "d. Which composer comes first in the dictionary: 'Berlioz', 'Borodin', 'Brian',\n",
    "'Bartok', 'Bellini', 'Buxtehude', 'Bernstein'. Which one comes last?"
   ]
  },
  {
   "cell_type": "code",
   "execution_count": 51,
   "metadata": {},
   "outputs": [
    {
     "name": "stdout",
     "output_type": "stream",
     "text": [
      "Solution a:34\n",
      "-----------------------------------------------------------------------------------------------------\n",
      "Solution b:True\n",
      "-----------------------------------------------------------------------------------------------------\n",
      "Solution c:\n",
      "Supercalifragilisticexpialidocious and Bababadalgharaghtakamminarronnkonn are equal and greatest\n",
      "-----------------------------------------------------------------------------------------------------\n",
      "Solution d:\n",
      "composer that comes first in the dictionary: Bartok\n",
      "----------------------------------End of Question 2------------------------------------------------------\n"
     ]
    }
   ],
   "source": [
    "string s1 = \"Supercalifragilisticexpialidocious\";\n",
    "string s2 = \"Honorificabilitudinitatibus\";\n",
    "string s3 = \"Bababadalgharaghtakamminarronnkonn\";\n",
    "\n",
    "Console.WriteLine(\"Solution a:{0}\",s1.Length);//a\n",
    "Console.WriteLine(\"-----------------------------------------------------------------------------------------------------\");\n",
    "\n",
    "Console.WriteLine(\"Solution b:{0}\",s1.Contains(\"ice\"));//b\n",
    "Console.WriteLine(\"-----------------------------------------------------------------------------------------------------\");\n",
    "\n",
    "\n",
    "int a = s1.Length;//c\n",
    "int b = s2.Length;\n",
    "int c = s3.Length;\n",
    "Console.WriteLine(\"Solution c:\");\n",
    "if(a>b && a>c)\n",
    "   Console.WriteLine(\"{0} is greatest\",s1);\n",
    "else if(b>a && b>c)\n",
    "   Console.WriteLine(\"{0} is greatest\",s2); \n",
    "else if(c>a && c>b)\n",
    "    Console.WriteLine(\"{0} is greatest\",s3);\n",
    "else if(a==b && a>c)\n",
    "    Console.WriteLine(\"{0} and {1} are equal and greatest\",s1,s2);\n",
    "else if(a==c && a>b)\n",
    "    Console.WriteLine(\"{0} and {1} are equal and greatest\",s1,s3);\n",
    "else if(b==c && b>a)\n",
    "    Console.WriteLine(\"{0} and {1} are equal and greatest\",s2,s3);\n",
    "Console.WriteLine(\"-----------------------------------------------------------------------------------------------------\");\n",
    "\n",
    "Console.WriteLine(\"Solution d:\");\n",
    "string[] composer = { \"Berlioz\", \"Borodin\", \"Brian\", \"Bartok\", \"Bellini\", \"Buxtehude\", \"Bernstein\"};\n",
    "Array.Sort(composer);\n",
    "Console.WriteLine(\"composer that comes first in the dictionary: {0}\",composer[0]);\n",
    "\n",
    "Console.WriteLine(\"----------------------------------End of Question 2------------------------------------------------------\");"
   ]
  },
  {
   "cell_type": "markdown",
   "metadata": {},
   "source": [
    "# Question 3 C#\n",
    "Implement function triangleArea(a,b,c) that takes as input the lengths of the 3\n",
    "sides of a triangle and returns the area of the triangle. By Heron's formula, the area\n",
    "of a triangle with side lengths a, b, and c is\n",
    "s(s - a)(s -b)(s -c)\n",
    ", where\n",
    "s = (a+b+c)/2.\n",
    "\n",
    " triangleArea(2,2,2)\n",
    "1.7320508075688772\n"
   ]
  },
  {
   "cell_type": "code",
   "execution_count": 66,
   "metadata": {},
   "outputs": [],
   "source": [
    "class triangle\n",
    "    {\n",
    "        public double triangleArea(double a, double b, double c)\n",
    "        {\n",
    "            double s = (a+b+c)/2;\n",
    "            double area;\n",
    "            area = Math.Sqrt(s*(s-a)*(s-b)*(s-c));\n",
    "            return area;\n",
    "        }\n",
    "        \n",
    "    }"
   ]
  },
  {
   "cell_type": "code",
   "execution_count": 68,
   "metadata": {},
   "outputs": [
    {
     "name": "stdout",
     "output_type": "stream",
     "text": [
      "three sides of the triangle here are 4, 5 and 8\n",
      "Area of the above triangle is: 8.181534085976786\n"
     ]
    }
   ],
   "source": [
    "Console.WriteLine(\"three sides of the triangle here are 4, 5 and 8\");\n",
    "triangle sides = new triangle();\n",
    "double finalarea = sides.triangleArea(4, 5, 8);//this is the function call change the parametres here for a different triangle\n",
    "\n",
    "Console.WriteLine(\"Area of the above triangle is: {0}\", finalarea);"
   ]
  },
  {
   "cell_type": "markdown",
   "metadata": {},
   "source": [
    "# Question  4 C#\n",
    "Write a program in C# Sharp to separate odd and even integers in separate arrays.\n",
    "Go to the editor\n",
    "Test Data :\n",
    "Input the number of elements to be stored in the array :5\n",
    "Input 5 elements in the array :\n",
    "element - 0 : 25\n",
    "element - 1 : 47\n",
    "element - 2 : 42\n",
    "element - 3 : 56\n",
    "element - 4 : 32\n",
    "Expected Output:\n",
    "The Even elements are:\n",
    "42 56 32\n",
    "The Odd elements are :\n",
    "25 47"
   ]
  },
  {
   "cell_type": "code",
   "execution_count": 86,
   "metadata": {},
   "outputs": [
    {
     "name": "stdout",
     "output_type": "stream",
     "text": [
      "Even elements are:42, 56, 32\n",
      "Odd elements are:25, 47\n"
     ]
    }
   ],
   "source": [
    "int[] arr = new int[5]{25, 47, 42, 56, 32};//can change the elemnets and size here explicitly\n",
    "int[] even = new int[4];\n",
    "int e = 0;\n",
    "int[] odd = new int[4];\n",
    "int o = 0;\n",
    "for(int i = 0; i < arr.Length; i++)\n",
    "    {\n",
    "        if((arr[i]%2)==0)\n",
    "            {\n",
    "            even[e]=arr[i];\n",
    "            e+=1;\n",
    "            }\n",
    "        else\n",
    "            {\n",
    "            odd[o]=arr[i];\n",
    "            o+=1;\n",
    "            }\n",
    "    }\n",
    "\n",
    "Console.WriteLine(\"Even elements are:{0}, {1}, {2}\",even[0],even[1],even[2]);\n",
    "Console.WriteLine(\"Odd elements are:{0}, {1}\",odd[0],odd[1]);"
   ]
  },
  {
   "cell_type": "markdown",
   "metadata": {},
   "source": [
    "# Question 5 C#\n",
    "a. Write a function inside(x,y,x1,y1,x2,y2) that returns True or False\n",
    "depending on whether the point (x,y) lies in the rectangle with lower left\n",
    "corner (x1,y1) and upper right corner (x2,y2).\n",
    "> inside(1,1,0,0,2,3)\n",
    "True\n",
    "\n",
    "> inside(-1,-1,0,0,2,3)\n",
    "False\n",
    "\n",
    "b. Use function inside() from part a. to write an expression that tests whether\n",
    "the point (1,1) lies in both of the following rectangles: one with lower left\n",
    "corner (0.3, 0.5) and upper right corner (1.1, 0.7) and the other with lower\n",
    "left corner (0.5, 0.2) and upper right corner (1.1, 2). "
   ]
  },
  {
   "cell_type": "code",
   "execution_count": 99,
   "metadata": {},
   "outputs": [],
   "source": [
    "//sub problem a\n",
    "//function definition\n",
    "class coordinates\n",
    "    {\n",
    "        public bool inside(double x,double y,double x1,double y1,double x2,double y2)\n",
    "        {\n",
    "           if(x>=x1&&y>=y1&&x<=x2&&y<=y2)\n",
    "           {\n",
    "            return true;\n",
    "            }\n",
    "           else\n",
    "           {\n",
    "             return false;\n",
    "           }\n",
    "        }\n",
    "        \n",
    "    }"
   ]
  },
  {
   "cell_type": "code",
   "execution_count": 100,
   "metadata": {},
   "outputs": [
    {
     "name": "stdout",
     "output_type": "stream",
     "text": [
      "True\n",
      "False\n"
     ]
    }
   ],
   "source": [
    "//function call\n",
    "coordinates co = new coordinates();\n",
    "bool p1,p2;\n",
    "p1 = co.inside(1,1,0,0,2,3);\n",
    "p2 = co.inside(-1,-1,0,0,2,3);\n",
    "Console.WriteLine(p1);\n",
    "Console.WriteLine(p2);"
   ]
  },
  {
   "cell_type": "code",
   "execution_count": 104,
   "metadata": {},
   "outputs": [
    {
     "name": "stdout",
     "output_type": "stream",
     "text": [
      "False\r\n"
     ]
    }
   ],
   "source": [
    "//sub problem b\n",
    "//testing (1,1) with lower left corner (0.3, 0.5) and upper right corner (1.1, 0.7) \n",
    "Console.WriteLine(co.inside(1, 1, 0.3, 0.5, 1.1, 0.7));"
   ]
  },
  {
   "cell_type": "code",
   "execution_count": 105,
   "metadata": {},
   "outputs": [
    {
     "name": "stdout",
     "output_type": "stream",
     "text": [
      "True\r\n"
     ]
    }
   ],
   "source": [
    "//testing (1,1) with  lower left corner (0.5, 0.2) and upper right corner (1.1, 2)\n",
    "Console.WriteLine(co.inside(1, 1, 0.5, 0.2, 1.1, 2));"
   ]
  },
  {
   "cell_type": "code",
   "execution_count": null,
   "metadata": {},
   "outputs": [],
   "source": []
  }
 ],
 "metadata": {
  "kernelspec": {
   "display_name": ".NET (C#)",
   "language": "C#",
   "name": ".net-csharp"
  },
  "language_info": {
   "file_extension": ".cs",
   "mimetype": "text/x-csharp",
   "name": "C#",
   "pygments_lexer": "csharp",
   "version": "9.0"
  }
 },
 "nbformat": 4,
 "nbformat_minor": 2
}
